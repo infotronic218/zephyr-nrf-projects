{
 "cells": [
  {
   "cell_type": "code",
   "execution_count": 7,
   "metadata": {},
   "outputs": [
    {
     "name": "stdout",
     "output_type": "stream",
     "text": [
      "{\n",
      "    \"name\":\"test\",\n",
      "    \"lastname\":\"Ousseni\",\n",
      "    \"age\":28,\n",
      "    \"country\":226\n",
      "}\n"
     ]
    }
   ],
   "source": [
    "from littlefs import LittleFS\n",
    "\n",
    "# Initialize the File System according to your specifications\n",
    "fs = LittleFS(block_size=4096, block_count=6,disk_version=0x00020001)\n",
    "\n",
    "# Open a file and write some content\n",
    "with fs.open('data.json', 'w') as fh:\n",
    "    file = open('data.json','r')\n",
    "    data = file.read()\n",
    "    type(data)\n",
    "    print(data)\n",
    "    fh.write(data)\n",
    "    fh.close()\n",
    "\n",
    "# Dump the filesystem content to a file\n",
    "with open('FlashMemory.bin', 'wb') as fh:\n",
    "    fh.write(fs.context.buffer)\n",
    "    fh.close()"
   ]
  },
  {
   "cell_type": "code",
   "execution_count": 3,
   "metadata": {},
   "outputs": [
    {
     "ename": "AttributeError",
     "evalue": "'LittleFS' object has no attribute 'disk_version'",
     "output_type": "error",
     "traceback": [
      "\u001b[0;31m---------------------------------------------------------------------------\u001b[0m",
      "\u001b[0;31mAttributeError\u001b[0m                            Traceback (most recent call last)",
      "Cell \u001b[0;32mIn[3], line 1\u001b[0m\n\u001b[0;32m----> 1\u001b[0m \u001b[43mfs\u001b[49m\u001b[38;5;241;43m.\u001b[39;49m\u001b[43mdisk_version\u001b[49m\n",
      "\u001b[0;31mAttributeError\u001b[0m: 'LittleFS' object has no attribute 'disk_version'"
     ]
    }
   ],
   "source": []
  }
 ],
 "metadata": {
  "kernelspec": {
   "display_name": "Python 3",
   "language": "python",
   "name": "python3"
  },
  "language_info": {
   "codemirror_mode": {
    "name": "ipython",
    "version": 3
   },
   "file_extension": ".py",
   "mimetype": "text/x-python",
   "name": "python",
   "nbconvert_exporter": "python",
   "pygments_lexer": "ipython3",
   "version": "3.10.12"
  }
 },
 "nbformat": 4,
 "nbformat_minor": 2
}
